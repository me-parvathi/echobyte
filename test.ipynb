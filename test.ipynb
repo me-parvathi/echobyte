{
 "cells": [
  {
   "cell_type": "code",
   "execution_count": 5,
   "metadata": {},
   "outputs": [],
   "source": [
    "import pandas as pd\n",
    "\n",
    "f = pd.read_csv(\"csv_out/EmployeeFeedbacks.csv\")\n",
    "d = pd.read_csv(\"csv_out/Departments.csv\")"
   ]
  },
  {
   "cell_type": "code",
   "execution_count": 6,
   "metadata": {},
   "outputs": [
    {
     "name": "stdout",
     "output_type": "stream",
     "text": [
      "EmployeeFeedbacks columns: ['FeedbackID', 'FeedbackAt', 'FeedbackTypeCode', 'Category', 'Subject', 'FeedbackText', 'TargetManagerID', 'TargetDepartmentID', 'FeedbackHash', 'IsRead', 'ReadByID', 'ReadAt']\n",
      "Departments columns: ['DepartmentID', 'DepartmentName', 'DepartmentCode', 'ParentDepartmentID', 'LocationID', 'IsActive', 'CreatedAt', 'UpdatedAt']\n"
     ]
    }
   ],
   "source": [
    "print(\"EmployeeFeedbacks columns:\", f.columns.tolist())\n",
    "print(\"Departments columns:\", d.columns.tolist())"
   ]
  },
  {
   "cell_type": "code",
   "execution_count": 7,
   "metadata": {},
   "outputs": [
    {
     "name": "stdout",
     "output_type": "stream",
     "text": [
      "Missing departments: 62\n",
      "     FeedbackID                  FeedbackAt FeedbackTypeCode  Category  \\\n",
      "0             1  2025-07-19 08:27:03.784966       Department       NaN   \n",
      "3             4  2025-07-19 08:27:03.784966          General   Culture   \n",
      "7             8  2025-07-19 08:27:03.784966          Manager  Workload   \n",
      "9            10  2025-07-19 08:27:03.784966          Manager   Culture   \n",
      "10           11  2025-07-19 08:27:03.784966          Manager   Culture   \n",
      "..          ...                         ...              ...       ...   \n",
      "105         106  2025-07-19 08:27:03.784966          Manager       NaN   \n",
      "106         107  2025-07-19 08:27:03.784966          General   Culture   \n",
      "108         109  2025-07-19 08:27:03.784966          Manager       NaN   \n",
      "110         111  2025-07-19 08:27:03.784966       Department   Culture   \n",
      "111         112  2025-07-19 08:27:03.784966       Department   Culture   \n",
      "\n",
      "        Subject                                       FeedbackText  \\\n",
      "0    Suggestion  Condition energy long instead fear. Any help o...   \n",
      "3           NaN  Street oil table avoid according why house. En...   \n",
      "7        Praise  Natural PM us card set account Democrat. Score...   \n",
      "9         Issue  Physical list budget animal form. Night group ...   \n",
      "10       Praise  They weight step for look someone cultural. Wi...   \n",
      "..          ...                                                ...   \n",
      "105         NaN  Size pick them of against among together. Empl...   \n",
      "106       Issue  Quite stop Congress though state the different...   \n",
      "108         NaN  Central agreement direction best memory garden...   \n",
      "110         NaN  Mean work building peace room suffer. Space su...   \n",
      "111       Issue  Economic something pattern. Writer part teache...   \n",
      "\n",
      "     TargetManagerID  TargetDepartmentID  \\\n",
      "0               28.0                  28   \n",
      "3               22.0                  22   \n",
      "7               26.0                  26   \n",
      "9               21.0                  21   \n",
      "10              22.0                  22   \n",
      "..               ...                 ...   \n",
      "105             22.0                  22   \n",
      "106             15.0                  15   \n",
      "108             24.0                  24   \n",
      "110             15.0                  15   \n",
      "111             15.0                  15   \n",
      "\n",
      "                                          FeedbackHash  IsRead  ReadByID  \\\n",
      "0    7adc13ac5daaedaa3fb9c1c5144615c0f33eda8ff24f0e...       0       NaN   \n",
      "3    5170c7c2990ca518a3517e8cee45b03820aeeea43ecb0f...       0       NaN   \n",
      "7    50609b91a51b255d5faf47d4b9f2a5db57d2de74a1bb18...       0       NaN   \n",
      "9    b012add21e2a5f661514a1c8faecb59df9d1a744b3f5ce...       0       NaN   \n",
      "10   6e346f3b15ed279e5d53e216974c4b676fb9ac218551f2...       0       NaN   \n",
      "..                                                 ...     ...       ...   \n",
      "105  fd17c56810f8892a33e9570411fa1258e6c705c456095e...       0       NaN   \n",
      "106  95ce13613ad2d16b2c08c43a0ba2c4d6d5d0e80d94709e...       0       NaN   \n",
      "108  4077d29eecb3fdc9e7297d80810c518f54dbc389b6ff2d...       0       NaN   \n",
      "110  ef6684a3f7ab30c3e984b4271f89b7f696cee57eab680a...       0       NaN   \n",
      "111  a670168ec357fb9e3328d17fd3eba1b68903c3b6bf6852...       0       NaN   \n",
      "\n",
      "     ReadAt  \n",
      "0       NaN  \n",
      "3       NaN  \n",
      "7       NaN  \n",
      "9       NaN  \n",
      "10      NaN  \n",
      "..      ...  \n",
      "105     NaN  \n",
      "106     NaN  \n",
      "108     NaN  \n",
      "110     NaN  \n",
      "111     NaN  \n",
      "\n",
      "[62 rows x 12 columns]\n"
     ]
    }
   ],
   "source": [
    "\n",
    "\n",
    "missing = f[~f[\"TargetDepartmentID\"].isin(d[\"DepartmentID\"])]\n",
    "print(\"Missing departments:\", len(missing))\n",
    "print(missing)"
   ]
  },
  {
   "cell_type": "code",
   "execution_count": 8,
   "metadata": {},
   "outputs": [
    {
     "name": "stdout",
     "output_type": "stream",
     "text": [
      "Invalid Department IDs referenced in EmployeeFeedbacks:\n",
      "     FeedbackID  TargetDepartmentID\n",
      "0             1                  28\n",
      "3             4                  22\n",
      "7             8                  26\n",
      "9            10                  21\n",
      "10           11                  22\n",
      "..          ...                 ...\n",
      "105         106                  22\n",
      "106         107                  15\n",
      "108         109                  24\n",
      "110         111                  15\n",
      "111         112                  15\n",
      "\n",
      "[62 rows x 2 columns]\n"
     ]
    }
   ],
   "source": [
    "import pandas as pd\n",
    "\n",
    "depts = pd.read_csv(\"csv_out/Departments.csv\")\n",
    "feedbacks = pd.read_csv(\"csv_out/EmployeeFeedbacks.csv\")\n",
    "\n",
    "invalid = feedbacks[~feedbacks['TargetDepartmentID'].isin(depts['DepartmentID'])]\n",
    "print(\"Invalid Department IDs referenced in EmployeeFeedbacks:\")\n",
    "print(invalid[['FeedbackID', 'TargetDepartmentID']])"
   ]
  },
  {
   "cell_type": "code",
   "execution_count": 9,
   "metadata": {},
   "outputs": [
    {
     "name": "stdout",
     "output_type": "stream",
     "text": [
      "42\n"
     ]
    }
   ],
   "source": [
    "class MyClass:\n",
    "    def __init__(self):\n",
    "        self._internal_value = 42  # Hint: This is private\n",
    "\n",
    "obj = MyClass()\n",
    "print(obj._internal_value)  # ⚠️ Still accessible\n"
   ]
  },
  {
   "cell_type": "code",
   "execution_count": null,
   "metadata": {},
   "outputs": [],
   "source": []
  }
 ],
 "metadata": {
  "kernelspec": {
   "display_name": "echobyte_venv",
   "language": "python",
   "name": "python3"
  },
  "language_info": {
   "codemirror_mode": {
    "name": "ipython",
    "version": 3
   },
   "file_extension": ".py",
   "mimetype": "text/x-python",
   "name": "python",
   "nbconvert_exporter": "python",
   "pygments_lexer": "ipython3",
   "version": "3.9.1"
  }
 },
 "nbformat": 4,
 "nbformat_minor": 2
}
